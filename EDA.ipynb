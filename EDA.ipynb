{
 "cells": [
  {
   "cell_type": "code",
   "execution_count": 1,
   "metadata": {},
   "outputs": [],
   "source": [
    "import pandas as pd\n",
    "import matplotlib.pyplot as plt\n",
    "import cv2\n",
    "import os\n",
    "from glob import glob"
   ]
  },
  {
   "cell_type": "code",
   "execution_count": 2,
   "metadata": {},
   "outputs": [
    {
     "data": {
      "text/plain": [
       "['./dataset/train\\\\가구수정',\n",
       " './dataset/train\\\\걸레받이수정',\n",
       " './dataset/train\\\\곰팡이',\n",
       " './dataset/train\\\\꼬임',\n",
       " './dataset/train\\\\녹오염',\n",
       " './dataset/train\\\\들뜸',\n",
       " './dataset/train\\\\면불량',\n",
       " './dataset/train\\\\몰딩수정',\n",
       " './dataset/train\\\\반점',\n",
       " './dataset/train\\\\석고수정',\n",
       " './dataset/train\\\\오염',\n",
       " './dataset/train\\\\오타공',\n",
       " './dataset/train\\\\울음',\n",
       " './dataset/train\\\\이음부불량',\n",
       " './dataset/train\\\\창틀,문틀수정',\n",
       " './dataset/train\\\\터짐',\n",
       " './dataset/train\\\\틈새과다',\n",
       " './dataset/train\\\\피스',\n",
       " './dataset/train\\\\훼손']"
      ]
     },
     "execution_count": 2,
     "metadata": {},
     "output_type": "execute_result"
    }
   ],
   "source": [
    "dir_lst = glob(\"./dataset/train/*\")\n",
    "dir_lst"
   ]
  },
  {
   "cell_type": "code",
   "execution_count": 3,
   "metadata": {},
   "outputs": [
    {
     "name": "stdout",
     "output_type": "stream",
     "text": [
      "가구수정 72\n",
      "걸레받이수정 307\n",
      "곰팡이 145\n",
      "꼬임 210\n",
      "녹오염 96\n",
      "들뜸 54\n",
      "면불량 99\n",
      "몰딩수정 130\n",
      "반점 18\n",
      "석고수정 57\n",
      "오염 593\n",
      "오타공 142\n",
      "울음 132\n",
      "이음부불량 102\n",
      "창틀,문틀수정 135\n",
      "터짐 162\n",
      "틈새과다 30\n",
      "피스 51\n",
      "훼손 1405\n"
     ]
    }
   ],
   "source": [
    "for path in dir_lst:\n",
    "  print(path.split(\"\\\\\")[-1], len(glob(os.path.join(path, \"*\"))))"
   ]
  },
  {
   "cell_type": "code",
   "execution_count": null,
   "metadata": {},
   "outputs": [],
   "source": []
  }
 ],
 "metadata": {
  "kernelspec": {
   "display_name": "도배하자-MTyWuYZX",
   "language": "python",
   "name": "python3"
  },
  "language_info": {
   "codemirror_mode": {
    "name": "ipython",
    "version": 3
   },
   "file_extension": ".py",
   "mimetype": "text/x-python",
   "name": "python",
   "nbconvert_exporter": "python",
   "pygments_lexer": "ipython3",
   "version": "3.9.13"
  },
  "orig_nbformat": 4
 },
 "nbformat": 4,
 "nbformat_minor": 2
}
